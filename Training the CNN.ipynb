{
 "cells": [
  {
   "cell_type": "code",
   "execution_count": 5,
   "id": "5d1afaa3",
   "metadata": {},
   "outputs": [],
   "source": [
    "import numpy as np\n",
    "\n",
    "data=np.load('data.npy')\n",
    "target=np.load('target.npy')\n",
    "\n",
    "#loading the save numpy arrays in the previous code"
   ]
  },
  {
   "cell_type": "code",
   "execution_count": 6,
   "id": "c67ae8ec",
   "metadata": {},
   "outputs": [],
   "source": [
    "from keras.models import Sequential\n",
    "from keras.layers import Dense,Activation,Flatten,Dropout\n",
    "from keras.layers import Conv2D,MaxPooling2D\n",
    "from keras.callbacks import ModelCheckpoint\n",
    "\n",
    "model=Sequential()\n",
    "\n",
    "model.add(Conv2D(200,(3,3),input_shape=data.shape[1:]))  #size is ignored , kernals\n",
    "model.add(Activation('relu')) #rectified linear unit        #sigmoid hyperbolic tangent     #shape textures and colours\n",
    "model.add(MaxPooling2D(pool_size=(2,2))) #reducing size of feature maps  \n",
    "#The first CNN layer followed by Relu and MaxPooling layers\n",
    "\n",
    "model.add(Conv2D(100,(3,3)))\n",
    "model.add(Activation('relu'))\n",
    "model.add(MaxPooling2D(pool_size=(2,2)))\n",
    "#The second convolution layer followed by Relu and MaxPooling layers\n",
    "\n",
    "model.add(Flatten())\n",
    "model.add(Dropout(0.5))\n",
    "#Flatten layer to stack the output convolutions from second convolution layer\n",
    "model.add(Dense(50,activation='relu'))\n",
    "#Dense layer of 64 neurons\n",
    "model.add(Dense(2,activation='softmax'))\n",
    "#The Final layer with two outputs for two categories\n",
    "\n",
    "model.compile(loss='categorical_crossentropy',optimizer='adam',metrics=['accuracy'])"
   ]
  },
  {
   "cell_type": "code",
   "execution_count": 7,
   "id": "d4366289",
   "metadata": {},
   "outputs": [],
   "source": [
    "from sklearn.model_selection import train_test_split\n",
    "\n",
    "train_data,test_data,train_target,test_target=train_test_split(data,target,test_size=0.1)"
   ]
  },
  {
   "cell_type": "code",
   "execution_count": 8,
   "id": "15839a87",
   "metadata": {},
   "outputs": [
    {
     "name": "stdout",
     "output_type": "stream",
     "text": [
      "Epoch 1/20\n",
      "31/31 [==============================] - ETA: 0s - loss: 0.7193 - accuracy: 0.5202"
     ]
    },
    {
     "name": "stderr",
     "output_type": "stream",
     "text": [
      "WARNING:absl:Found untraced functions such as _jit_compiled_convolution_op, _jit_compiled_convolution_op, _update_step_xla while saving (showing 3 of 3). These functions will not be directly callable after loading.\n"
     ]
    },
    {
     "name": "stdout",
     "output_type": "stream",
     "text": [
      "INFO:tensorflow:Assets written to: model-001.model\\assets\n"
     ]
    },
    {
     "name": "stderr",
     "output_type": "stream",
     "text": [
      "INFO:tensorflow:Assets written to: model-001.model\\assets\n"
     ]
    },
    {
     "name": "stdout",
     "output_type": "stream",
     "text": [
      "31/31 [==============================] - 64s 2s/step - loss: 0.7193 - accuracy: 0.5202 - val_loss: 0.6727 - val_accuracy: 0.5484\n",
      "Epoch 2/20\n",
      "31/31 [==============================] - ETA: 0s - loss: 0.5960 - accuracy: 0.6737"
     ]
    },
    {
     "name": "stderr",
     "output_type": "stream",
     "text": [
      "WARNING:absl:Found untraced functions such as _jit_compiled_convolution_op, _jit_compiled_convolution_op, _update_step_xla while saving (showing 3 of 3). These functions will not be directly callable after loading.\n"
     ]
    },
    {
     "name": "stdout",
     "output_type": "stream",
     "text": [
      "INFO:tensorflow:Assets written to: model-002.model\\assets\n"
     ]
    },
    {
     "name": "stderr",
     "output_type": "stream",
     "text": [
      "INFO:tensorflow:Assets written to: model-002.model\\assets\n"
     ]
    },
    {
     "name": "stdout",
     "output_type": "stream",
     "text": [
      "31/31 [==============================] - 64s 2s/step - loss: 0.5960 - accuracy: 0.6737 - val_loss: 0.5393 - val_accuracy: 0.7460\n",
      "Epoch 3/20\n",
      "31/31 [==============================] - ETA: 0s - loss: 0.4421 - accuracy: 0.8010"
     ]
    },
    {
     "name": "stderr",
     "output_type": "stream",
     "text": [
      "WARNING:absl:Found untraced functions such as _jit_compiled_convolution_op, _jit_compiled_convolution_op, _update_step_xla while saving (showing 3 of 3). These functions will not be directly callable after loading.\n"
     ]
    },
    {
     "name": "stdout",
     "output_type": "stream",
     "text": [
      "INFO:tensorflow:Assets written to: model-003.model\\assets\n"
     ]
    },
    {
     "name": "stderr",
     "output_type": "stream",
     "text": [
      "INFO:tensorflow:Assets written to: model-003.model\\assets\n"
     ]
    },
    {
     "name": "stdout",
     "output_type": "stream",
     "text": [
      "31/31 [==============================] - 69s 2s/step - loss: 0.4421 - accuracy: 0.8010 - val_loss: 0.3984 - val_accuracy: 0.8065\n",
      "Epoch 4/20\n",
      "31/31 [==============================] - ETA: 0s - loss: 0.2687 - accuracy: 0.8990"
     ]
    },
    {
     "name": "stderr",
     "output_type": "stream",
     "text": [
      "WARNING:absl:Found untraced functions such as _jit_compiled_convolution_op, _jit_compiled_convolution_op, _update_step_xla while saving (showing 3 of 3). These functions will not be directly callable after loading.\n"
     ]
    },
    {
     "name": "stdout",
     "output_type": "stream",
     "text": [
      "INFO:tensorflow:Assets written to: model-004.model\\assets\n"
     ]
    },
    {
     "name": "stderr",
     "output_type": "stream",
     "text": [
      "INFO:tensorflow:Assets written to: model-004.model\\assets\n"
     ]
    },
    {
     "name": "stdout",
     "output_type": "stream",
     "text": [
      "31/31 [==============================] - 74s 2s/step - loss: 0.2687 - accuracy: 0.8990 - val_loss: 0.2479 - val_accuracy: 0.8952\n",
      "Epoch 5/20\n",
      "31/31 [==============================] - 63s 2s/step - loss: 0.1923 - accuracy: 0.9313 - val_loss: 0.3240 - val_accuracy: 0.8790\n",
      "Epoch 6/20\n",
      "31/31 [==============================] - ETA: 0s - loss: 0.1852 - accuracy: 0.9283"
     ]
    },
    {
     "name": "stderr",
     "output_type": "stream",
     "text": [
      "WARNING:absl:Found untraced functions such as _jit_compiled_convolution_op, _jit_compiled_convolution_op, _update_step_xla while saving (showing 3 of 3). These functions will not be directly callable after loading.\n"
     ]
    },
    {
     "name": "stdout",
     "output_type": "stream",
     "text": [
      "INFO:tensorflow:Assets written to: model-006.model\\assets\n"
     ]
    },
    {
     "name": "stderr",
     "output_type": "stream",
     "text": [
      "INFO:tensorflow:Assets written to: model-006.model\\assets\n"
     ]
    },
    {
     "name": "stdout",
     "output_type": "stream",
     "text": [
      "31/31 [==============================] - 66s 2s/step - loss: 0.1852 - accuracy: 0.9283 - val_loss: 0.1939 - val_accuracy: 0.9355\n",
      "Epoch 7/20\n",
      "31/31 [==============================] - ETA: 0s - loss: 0.1740 - accuracy: 0.9323"
     ]
    },
    {
     "name": "stderr",
     "output_type": "stream",
     "text": [
      "WARNING:absl:Found untraced functions such as _jit_compiled_convolution_op, _jit_compiled_convolution_op, _update_step_xla while saving (showing 3 of 3). These functions will not be directly callable after loading.\n"
     ]
    },
    {
     "name": "stdout",
     "output_type": "stream",
     "text": [
      "INFO:tensorflow:Assets written to: model-007.model\\assets\n"
     ]
    },
    {
     "name": "stderr",
     "output_type": "stream",
     "text": [
      "INFO:tensorflow:Assets written to: model-007.model\\assets\n"
     ]
    },
    {
     "name": "stdout",
     "output_type": "stream",
     "text": [
      "31/31 [==============================] - 67s 2s/step - loss: 0.1740 - accuracy: 0.9323 - val_loss: 0.1756 - val_accuracy: 0.9315\n",
      "Epoch 8/20\n",
      "31/31 [==============================] - ETA: 0s - loss: 0.1163 - accuracy: 0.9616"
     ]
    },
    {
     "name": "stderr",
     "output_type": "stream",
     "text": [
      "WARNING:absl:Found untraced functions such as _jit_compiled_convolution_op, _jit_compiled_convolution_op, _update_step_xla while saving (showing 3 of 3). These functions will not be directly callable after loading.\n"
     ]
    },
    {
     "name": "stdout",
     "output_type": "stream",
     "text": [
      "INFO:tensorflow:Assets written to: model-008.model\\assets\n"
     ]
    },
    {
     "name": "stderr",
     "output_type": "stream",
     "text": [
      "INFO:tensorflow:Assets written to: model-008.model\\assets\n"
     ]
    },
    {
     "name": "stdout",
     "output_type": "stream",
     "text": [
      "31/31 [==============================] - 67s 2s/step - loss: 0.1163 - accuracy: 0.9616 - val_loss: 0.1527 - val_accuracy: 0.9395\n",
      "Epoch 9/20\n",
      "31/31 [==============================] - ETA: 0s - loss: 0.0983 - accuracy: 0.9707"
     ]
    },
    {
     "name": "stderr",
     "output_type": "stream",
     "text": [
      "WARNING:absl:Found untraced functions such as _jit_compiled_convolution_op, _jit_compiled_convolution_op, _update_step_xla while saving (showing 3 of 3). These functions will not be directly callable after loading.\n"
     ]
    },
    {
     "name": "stdout",
     "output_type": "stream",
     "text": [
      "INFO:tensorflow:Assets written to: model-009.model\\assets\n"
     ]
    },
    {
     "name": "stderr",
     "output_type": "stream",
     "text": [
      "INFO:tensorflow:Assets written to: model-009.model\\assets\n"
     ]
    },
    {
     "name": "stdout",
     "output_type": "stream",
     "text": [
      "31/31 [==============================] - 70s 2s/step - loss: 0.0983 - accuracy: 0.9707 - val_loss: 0.1275 - val_accuracy: 0.9556\n",
      "Epoch 10/20\n",
      "31/31 [==============================] - 64s 2s/step - loss: 0.0932 - accuracy: 0.9657 - val_loss: 0.2757 - val_accuracy: 0.8790\n",
      "Epoch 11/20\n",
      "31/31 [==============================] - 64s 2s/step - loss: 0.0989 - accuracy: 0.9677 - val_loss: 0.1278 - val_accuracy: 0.9597\n",
      "Epoch 12/20\n",
      "31/31 [==============================] - ETA: 0s - loss: 0.1017 - accuracy: 0.9646"
     ]
    },
    {
     "name": "stderr",
     "output_type": "stream",
     "text": [
      "WARNING:absl:Found untraced functions such as _jit_compiled_convolution_op, _jit_compiled_convolution_op, _update_step_xla while saving (showing 3 of 3). These functions will not be directly callable after loading.\n"
     ]
    },
    {
     "name": "stdout",
     "output_type": "stream",
     "text": [
      "INFO:tensorflow:Assets written to: model-012.model\\assets\n"
     ]
    },
    {
     "name": "stderr",
     "output_type": "stream",
     "text": [
      "INFO:tensorflow:Assets written to: model-012.model\\assets\n"
     ]
    },
    {
     "name": "stdout",
     "output_type": "stream",
     "text": [
      "31/31 [==============================] - 69s 2s/step - loss: 0.1017 - accuracy: 0.9646 - val_loss: 0.1188 - val_accuracy: 0.9516\n",
      "Epoch 13/20\n",
      "31/31 [==============================] - 66s 2s/step - loss: 0.0833 - accuracy: 0.9646 - val_loss: 0.1229 - val_accuracy: 0.9516\n",
      "Epoch 14/20\n",
      "31/31 [==============================] - ETA: 0s - loss: 0.0977 - accuracy: 0.9586"
     ]
    },
    {
     "name": "stderr",
     "output_type": "stream",
     "text": [
      "WARNING:absl:Found untraced functions such as _jit_compiled_convolution_op, _jit_compiled_convolution_op, _update_step_xla while saving (showing 3 of 3). These functions will not be directly callable after loading.\n"
     ]
    },
    {
     "name": "stdout",
     "output_type": "stream",
     "text": [
      "INFO:tensorflow:Assets written to: model-014.model\\assets\n"
     ]
    },
    {
     "name": "stderr",
     "output_type": "stream",
     "text": [
      "INFO:tensorflow:Assets written to: model-014.model\\assets\n"
     ]
    },
    {
     "name": "stdout",
     "output_type": "stream",
     "text": [
      "31/31 [==============================] - 73s 2s/step - loss: 0.0977 - accuracy: 0.9586 - val_loss: 0.1152 - val_accuracy: 0.9516\n",
      "Epoch 15/20\n",
      "31/31 [==============================] - ETA: 0s - loss: 0.0575 - accuracy: 0.9788"
     ]
    },
    {
     "name": "stderr",
     "output_type": "stream",
     "text": [
      "WARNING:absl:Found untraced functions such as _jit_compiled_convolution_op, _jit_compiled_convolution_op, _update_step_xla while saving (showing 3 of 3). These functions will not be directly callable after loading.\n"
     ]
    },
    {
     "name": "stdout",
     "output_type": "stream",
     "text": [
      "INFO:tensorflow:Assets written to: model-015.model\\assets\n"
     ]
    },
    {
     "name": "stderr",
     "output_type": "stream",
     "text": [
      "INFO:tensorflow:Assets written to: model-015.model\\assets\n"
     ]
    },
    {
     "name": "stdout",
     "output_type": "stream",
     "text": [
      "31/31 [==============================] - 63s 2s/step - loss: 0.0575 - accuracy: 0.9788 - val_loss: 0.1111 - val_accuracy: 0.9556\n",
      "Epoch 16/20\n",
      "31/31 [==============================] - 64s 2s/step - loss: 0.0494 - accuracy: 0.9859 - val_loss: 0.1113 - val_accuracy: 0.9516\n",
      "Epoch 17/20\n",
      "31/31 [==============================] - 65s 2s/step - loss: 0.0380 - accuracy: 0.9859 - val_loss: 0.1172 - val_accuracy: 0.9556\n",
      "Epoch 18/20\n",
      "31/31 [==============================] - 65s 2s/step - loss: 0.0398 - accuracy: 0.9869 - val_loss: 0.1393 - val_accuracy: 0.9476\n",
      "Epoch 19/20\n",
      "31/31 [==============================] - ETA: 0s - loss: 0.0706 - accuracy: 0.9717"
     ]
    },
    {
     "name": "stderr",
     "output_type": "stream",
     "text": [
      "WARNING:absl:Found untraced functions such as _jit_compiled_convolution_op, _jit_compiled_convolution_op, _update_step_xla while saving (showing 3 of 3). These functions will not be directly callable after loading.\n"
     ]
    },
    {
     "name": "stdout",
     "output_type": "stream",
     "text": [
      "INFO:tensorflow:Assets written to: model-019.model\\assets\n"
     ]
    },
    {
     "name": "stderr",
     "output_type": "stream",
     "text": [
      "INFO:tensorflow:Assets written to: model-019.model\\assets\n"
     ]
    },
    {
     "name": "stdout",
     "output_type": "stream",
     "text": [
      "31/31 [==============================] - 70s 2s/step - loss: 0.0706 - accuracy: 0.9717 - val_loss: 0.0967 - val_accuracy: 0.9516\n",
      "Epoch 20/20\n",
      "31/31 [==============================] - ETA: 0s - loss: 0.0632 - accuracy: 0.9737"
     ]
    },
    {
     "name": "stderr",
     "output_type": "stream",
     "text": [
      "WARNING:absl:Found untraced functions such as _jit_compiled_convolution_op, _jit_compiled_convolution_op, _update_step_xla while saving (showing 3 of 3). These functions will not be directly callable after loading.\n"
     ]
    },
    {
     "name": "stdout",
     "output_type": "stream",
     "text": [
      "INFO:tensorflow:Assets written to: model-020.model\\assets\n"
     ]
    },
    {
     "name": "stderr",
     "output_type": "stream",
     "text": [
      "INFO:tensorflow:Assets written to: model-020.model\\assets\n"
     ]
    },
    {
     "name": "stdout",
     "output_type": "stream",
     "text": [
      "\b\b\b\b\b\b\b\b\b\b\b\b\b\b\b\b\b\b\b\b\b\b\b\b\b\b\b\b\b\b\b\b\b\b\b\b\b\b\b\b\b\b\b\b\b\b\b\b\b\b\b\b\b\b\b\b\b\b\b\b\b\b\b\b\b\b\b\b\b\b\b\b\b\b\b\b\b\b\b\b\b\b\r",
      "31/31 [==============================] - 64s 2s/step - loss: 0.0632 - accuracy: 0.9737 - val_loss: 0.0967 - val_accuracy: 0.9597\n"
     ]
    }
   ],
   "source": [
    "checkpoint = ModelCheckpoint('model-{epoch:03d}.model',monitor='val_loss',verbose=0,save_best_only=True,mode='auto')\n",
    "history=model.fit(train_data,train_target,epochs=20,callbacks=[checkpoint],validation_split=0.2)"
   ]
  },
  {
   "cell_type": "code",
   "execution_count": 9,
   "id": "0cf0bc7e",
   "metadata": {},
   "outputs": [
    {
     "data": {
      "image/png": "[encoded data removed]",
      "text/plain": [
       "<Figure size 640x480 with 1 Axes>"
      ]
     },
     "metadata": {},
     "output_type": "display_data"
    }
   ],
   "source": [
    "from matplotlib import pyplot as plt\n",
    "\n",
    "plt.plot(history.history['loss'],'r',label='training loss')\n",
    "plt.plot(history.history['val_loss'],label='validation loss')\n",
    "plt.xlabel('# epochs')\n",
    "plt.ylabel('loss')\n",
    "plt.legend()\n",
    "plt.show()"
   ]
  },
  {
   "cell_type": "code",
   "execution_count": 10,
   "id": "b04e3e46",
   "metadata": {},
   "outputs": [
    {
     "data": {
      "image/png": "[encoded data removed]",
      "text/plain": [
       "<Figure size 640x480 with 1 Axes>"
      ]
     },
     "metadata": {},
     "output_type": "display_data"
    }
   ],
   "source": [
    "plt.plot(history.history['accuracy'],'r',label='training accuracy')\n",
    "plt.plot(history.history['val_accuracy'],label='validation accuracy')\n",
    "plt.xlabel('# epochs')\n",
    "plt.ylabel('loss')\n",
    "plt.legend()\n",
    "plt.show()"
   ]
  },
  {
   "cell_type": "code",
   "execution_count": 8,
   "id": "af9743b1",
   "metadata": {},
   "outputs": [
    {
     "name": "stdout",
     "output_type": "stream",
     "text": [
      "5/5 [==============================] - 2s 373ms/step - loss: 0.3147 - accuracy: 0.9203\n",
      "[0.31469106674194336, 0.9202898740768433]\n"
     ]
    }
   ],
   "source": [
    "print(model.evaluate(test_data,test_target))"
   ]
  },
  {
   "cell_type": "code",
   "execution_count": 11,
   "id": "29dd6832",
   "metadata": {},
   "outputs": [],
   "source": [
    "from sklearn.metrics import classification_report,confusion_matrix"
   ]
  },
  {
   "cell_type": "code",
   "execution_count": 15,
   "id": "a04d7ccd",
   "metadata": {},
   "outputs": [
    {
     "name": "stdout",
     "output_type": "stream",
     "text": [
      "5/5 [==============================] - 3s 446ms/step\n",
      "[[8.0540951e-04 9.9919456e-01]\n",
      " [9.3426853e-03 9.9065733e-01]\n",
      " [2.7809478e-02 9.7219050e-01]\n",
      " [8.7326189e-06 9.9999130e-01]\n",
      " [9.5182306e-01 4.8176944e-02]\n",
      " [8.7810019e-03 9.9121898e-01]\n",
      " [7.0190457e-05 9.9992979e-01]\n",
      " [9.9410170e-01 5.8982889e-03]\n",
      " [7.9505760e-03 9.9204940e-01]\n",
      " [1.4329361e-04 9.9985671e-01]\n",
      " [6.5326056e-04 9.9934667e-01]\n",
      " [1.0018209e-02 9.8998183e-01]\n",
      " [9.9758625e-01 2.4137846e-03]\n",
      " [9.8294431e-01 1.7055690e-02]\n",
      " [2.6948351e-04 9.9973053e-01]\n",
      " [3.3466730e-03 9.9665338e-01]\n",
      " [2.7322106e-04 9.9972671e-01]\n",
      " [9.9986982e-01 1.3019312e-04]\n",
      " [9.9981087e-01 1.8909093e-04]\n",
      " [9.9999225e-01 7.7104050e-06]\n",
      " [9.8839349e-01 1.1606500e-02]\n",
      " [9.9999976e-01 2.4956256e-07]\n",
      " [1.9273505e-02 9.8072654e-01]\n",
      " [9.1870112e-04 9.9908125e-01]\n",
      " [9.6318728e-01 3.6812734e-02]\n",
      " [9.4411306e-02 9.0558863e-01]\n",
      " [9.8873723e-01 1.1262727e-02]\n",
      " [9.9998617e-01 1.3848791e-05]\n",
      " [1.2546379e-04 9.9987447e-01]\n",
      " [9.9996018e-01 3.9780902e-05]\n",
      " [5.1117316e-02 9.4888270e-01]\n",
      " [9.9993908e-01 6.0884708e-05]\n",
      " [9.4627524e-03 9.9053723e-01]\n",
      " [9.9537992e-01 4.6200640e-03]\n",
      " [9.9812347e-01 1.8764917e-03]\n",
      " [3.9931625e-04 9.9960071e-01]\n",
      " [9.9965250e-01 3.4751889e-04]\n",
      " [2.9942420e-01 7.0057583e-01]\n",
      " [9.9938345e-01 6.1648194e-04]\n",
      " [9.9092031e-01 9.0797124e-03]\n",
      " [9.9999928e-01 6.7814619e-07]\n",
      " [9.9989057e-01 1.0945817e-04]\n",
      " [3.6498913e-04 9.9963498e-01]\n",
      " [1.7091980e-02 9.8290801e-01]\n",
      " [9.9734408e-01 2.6559329e-03]\n",
      " [9.9537283e-01 4.6271500e-03]\n",
      " [3.2374790e-01 6.7625213e-01]\n",
      " [9.9958926e-01 4.1072362e-04]\n",
      " [1.9062679e-04 9.9980944e-01]\n",
      " [1.1837152e-01 8.8162851e-01]\n",
      " [8.8476199e-01 1.1523800e-01]\n",
      " [8.8031724e-04 9.9911970e-01]\n",
      " [9.9994612e-01 5.3874974e-05]\n",
      " [4.5227617e-04 9.9954766e-01]\n",
      " [9.9953139e-01 4.6865590e-04]\n",
      " [7.9231453e-05 9.9992073e-01]\n",
      " [9.9482453e-01 5.1754392e-03]\n",
      " [9.9994016e-01 5.9847564e-05]\n",
      " [9.8785663e-01 1.2143342e-02]\n",
      " [9.9989259e-01 1.0744318e-04]\n",
      " [1.2151136e-03 9.9878484e-01]\n",
      " [3.0132276e-05 9.9996984e-01]\n",
      " [9.1878428e-05 9.9990809e-01]\n",
      " [3.0632014e-03 9.9693680e-01]\n",
      " [7.4119860e-04 9.9925882e-01]\n",
      " [2.4150582e-03 9.9758494e-01]\n",
      " [9.9981672e-01 1.8333354e-04]\n",
      " [9.5483707e-03 9.9045157e-01]\n",
      " [4.5014560e-01 5.4985440e-01]\n",
      " [2.3497317e-03 9.9765033e-01]\n",
      " [9.5977203e-04 9.9904019e-01]\n",
      " [9.9993896e-01 6.1073530e-05]\n",
      " [9.9997580e-01 2.4184277e-05]\n",
      " [5.7498515e-03 9.9425018e-01]\n",
      " [9.6421838e-02 9.0357816e-01]\n",
      " [9.7639084e-01 2.3609152e-02]\n",
      " [3.7708637e-01 6.2291372e-01]\n",
      " [9.8548526e-01 1.4514804e-02]\n",
      " [4.0413272e-01 5.9586728e-01]\n",
      " [9.3258959e-01 6.7410439e-02]\n",
      " [9.2043400e-01 7.9566002e-02]\n",
      " [9.9997926e-01 2.0765716e-05]\n",
      " [9.7773230e-01 2.2267645e-02]\n",
      " [9.9982196e-01 1.7800990e-04]\n",
      " [9.5534694e-01 4.4653054e-02]\n",
      " [2.4655275e-03 9.9753451e-01]\n",
      " [4.1380650e-03 9.9586189e-01]\n",
      " [9.9986351e-01 1.3645453e-04]\n",
      " [9.7544700e-01 2.4553003e-02]\n",
      " [9.9999928e-01 6.9718112e-07]\n",
      " [9.9996567e-01 3.4297816e-05]\n",
      " [9.9954838e-01 4.5158280e-04]\n",
      " [6.3668255e-04 9.9936336e-01]\n",
      " [2.5923338e-04 9.9974078e-01]\n",
      " [7.4539788e-04 9.9925452e-01]\n",
      " [2.2932333e-01 7.7067673e-01]\n",
      " [3.7019614e-02 9.6298039e-01]\n",
      " [9.9913198e-01 8.6798635e-04]\n",
      " [2.6382769e-02 9.7361720e-01]\n",
      " [7.7286379e-05 9.9992275e-01]\n",
      " [9.1062818e-04 9.9908936e-01]\n",
      " [1.0678861e-02 9.8932111e-01]\n",
      " [1.2006834e-04 9.9987996e-01]\n",
      " [9.6482807e-01 3.5171926e-02]\n",
      " [9.9588817e-01 4.1118879e-03]\n",
      " [9.9464887e-01 5.3510792e-03]\n",
      " [2.6509190e-02 9.7349077e-01]\n",
      " [9.9998379e-01 1.6196833e-05]\n",
      " [9.8317832e-01 1.6821666e-02]\n",
      " [8.9544163e-04 9.9910456e-01]\n",
      " [9.6482807e-01 3.5171926e-02]\n",
      " [9.8943915e-03 9.9010557e-01]\n",
      " [1.4666141e-02 9.8533380e-01]\n",
      " [9.8321354e-01 1.6786387e-02]\n",
      " [2.2895149e-05 9.9997711e-01]\n",
      " [9.9984872e-01 1.5123996e-04]\n",
      " [6.6916478e-01 3.3083525e-01]\n",
      " [6.6978991e-02 9.3302101e-01]\n",
      " [7.4939728e-01 2.5060269e-01]\n",
      " [9.9342477e-01 6.5751914e-03]\n",
      " [2.9100807e-02 9.7089922e-01]\n",
      " [9.9945134e-01 5.4860837e-04]\n",
      " [9.6963835e-01 3.0361641e-02]\n",
      " [1.1298803e-04 9.9988699e-01]\n",
      " [9.9881065e-01 1.1893128e-03]\n",
      " [1.1135232e-02 9.8886478e-01]\n",
      " [8.4602761e-01 1.5397246e-01]\n",
      " [9.6415007e-01 3.5849929e-02]\n",
      " [9.9999332e-01 6.6230641e-06]\n",
      " [2.7621854e-02 9.7237813e-01]\n",
      " [1.2468451e-02 9.8753148e-01]\n",
      " [9.9995780e-01 4.2216325e-05]\n",
      " [9.9838865e-01 1.6113491e-03]\n",
      " [8.8542753e-01 1.1457240e-01]\n",
      " [9.0436246e-03 9.9095637e-01]\n",
      " [1.8205322e-02 9.8179471e-01]\n",
      " [9.9880636e-01 1.1936438e-03]\n",
      " [1.5826121e-02 9.8417389e-01]]\n",
      "[1 1 1 1 0 1 1 0 1 1 1 1 0 0 1 1 1 0 0 0 0 0 1 1 0 1 0 0 1 0 1 0 1 0 0 1 0\n",
      " 1 0 0 0 0 1 1 0 0 1 0 1 1 0 1 0 1 0 1 0 0 0 0 1 1 1 1 1 1 0 1 1 1 1 0 0 1\n",
      " 1 0 1 0 1 0 0 0 0 0 0 1 1 0 0 0 0 0 1 1 1 1 1 0 1 1 1 1 1 0 0 0 1 0 0 1 0\n",
      " 1 1 0 1 0 0 1 0 0 1 0 0 1 0 1 0 0 0 1 1 0 0 0 1 1 0 1]\n",
      "                        precision    recall  f1-score   support\n",
      "\n",
      "   class 0(WITH MASKS)       1.00      0.93      0.97        74\n",
      "class 1(WITHOUT MASKS)       0.93      1.00      0.96        64\n",
      "\n",
      "              accuracy                           0.96       138\n",
      "             macro avg       0.96      0.97      0.96       138\n",
      "          weighted avg       0.97      0.96      0.96       138\n",
      "\n",
      "[[69  5]\n",
      " [ 0 64]]\n"
     ]
    }
   ],
   "source": [
    "Y_pred = model.predict(test_data)\n",
    "print(Y_pred)\n",
    "y_pred = np.argmax(Y_pred, axis=1)\n",
    "print(y_pred)\n",
    "#y_pred = model.predict_classes(X_test)\n",
    "#print(y_pred)\n",
    "\n",
    "\n",
    "\n",
    "\n",
    "\n",
    "#p=model.predict_proba(test_data) \n",
    "target_names = ['class 0(WITH MASKS)', 'class 1(WITHOUT MASKS)']\n",
    "print(classification_report(np.argmax(test_target,axis=1), y_pred,target_names=target_names))\n",
    "print(confusion_matrix(np.argmax(test_target,axis=1), y_pred))\n"
   ]
  },
  {
   "cell_type": "code",
   "execution_count": 17,
   "id": "fce53652",
   "metadata": {},
   "outputs": [
    {
     "data": {
      "text/plain": [
       "<AxesSubplot: >"
      ]
     },
     "execution_count": 17,
     "metadata": {},
     "output_type": "execute_result"
    },
    {
     "data": {
      "image/png": "[encoded data removed]",
      "text/plain": [
       "<Figure size 640x480 with 2 Axes>"
      ]
     },
     "metadata": {},
     "output_type": "display_data"
    }
   ],
   "source": [
    "import seaborn as sns\n",
    "sns.heatmap(confusion_matrix(np.argmax(test_target,axis=1), y_pred), annot=True)"
   ]
  },
  {
   "cell_type": "code",
   "execution_count": null,
   "id": "52616514",
   "metadata": {},
   "outputs": [],
   "source": []
  }
 ],
 "metadata": {
  "kernelspec": {
   "display_name": "Python 3 (ipykernel)",
   "language": "python",
   "name": "python3"
  },
  "language_info": {
   "codemirror_mode": {
    "name": "ipython",
    "version": 3
   },
   "file_extension": ".py",
   "mimetype": "text/x-python",
   "name": "python",
   "nbconvert_exporter": "python",
   "pygments_lexer": "ipython3",
   "version": "3.10.5"
  }
 },
 "nbformat": 4,
 "nbformat_minor": 5
}
